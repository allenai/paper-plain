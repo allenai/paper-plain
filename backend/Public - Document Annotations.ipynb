{
 "cells": [
  {
   "cell_type": "markdown",
   "id": "54c76a79",
   "metadata": {},
   "source": [
    "# Document Annotations\n",
    "This notebook combines the output of the backends (Term Definitions, Questions & Answers, and Section Headers) into a format readable by the UI. \n",
    "\n",
    "The notebook assumes that the paper as already been parsed by PAWLs and the backends were run to great term definitions, sections headers, and QAs. \n",
    "\n",
    "Note that parts of the backend were manually created (e.g., writing the questions or linking multiple answers together) so not everything has a function, these places will be marked.\n"
   ]
  },
  {
   "cell_type": "code",
   "execution_count": 78,
   "id": "a5c2f386",
   "metadata": {},
   "outputs": [],
   "source": [
    "import os\n",
    "import sys\n",
    "import pandas as pd\n",
    "import json\n",
    "from spacy.tokens import Doc\n",
    "import uuid\n",
    "import random\n",
    "\n",
    "import spacy\n",
    "import scispacy\n",
    "import pandas as pd\n",
    "import numpy as np\n",
    "from elasticsearch import Elasticsearch\n",
    "import tqdm\n",
    "\n",
    "sci_nlp = spacy.load(\"en_core_sci_scibert\")\n",
    "ner = sci_nlp.get_pipe(\"ner\")\n",
    "\n",
    "rd = random.Random()\n",
    "rd.seed(0)\n",
    "\n",
    "\n",
    "DIR = ''\n",
    "DATA_DIR = '{}/data'.format(DIR)\n",
    "\n",
    "sys.path.append('{}/lib'.format(DIR))\n",
    "import sauce_defs\n",
    "\n"
   ]
  },
  {
   "cell_type": "code",
   "execution_count": 79,
   "id": "671293b7",
   "metadata": {},
   "outputs": [],
   "source": [
    "with open('development_user@example.com_annotations.json', 'r') as f:\n",
    "    pawls_annotations_json = json.load(f)\n",
    "    \n",
    "    \n",
    "with open('pdf_structure.json', 'r') as f:\n",
    "    pawls_structure = json.load(f)\n",
    "    "
   ]
  },
  {
   "cell_type": "markdown",
   "id": "a03d0f61",
   "metadata": {},
   "source": [
    "# Extract terms "
   ]
  },
  {
   "cell_type": "code",
   "execution_count": 494,
   "id": "0599ae3b",
   "metadata": {},
   "outputs": [],
   "source": [
    "def find_matching_token(pages, docs):\n",
    "    matching = {}\n",
    "    for d, p in zip(docs, pages):\n",
    "        matching_tokens = []\n",
    "        ents_index = [(s.start, s.end) for s in d.ents]\n",
    "        for indices in ents_index:\n",
    "            matching_tokens.append({'tokens': p['tokens'][indices[0]:indices[1]], 'indices':indices})\n",
    "        matching[p['page']['index']] = matching_tokens\n",
    "    return matching\n",
    "\n",
    "def make_keyword_annotation(tokens, page):\n",
    "    return {\n",
    "        \"page\": int(page),\n",
    "        \"id\": str(uuid.UUID(int=rd.getrandbits(128), version=4)),\n",
    "        \"label\": {'text': 'Keywords', 'color': '#64ED96'},\n",
    "        \"bounds\": {\n",
    "            \"left\": tokens['tokens'][0]['x'],\n",
    "            \"top\": tokens['tokens'][0]['y'],\n",
    "            \"right\": tokens['tokens'][-1]['x'] + tokens['tokens'][-1]['width'],\n",
    "            \"bottom\": tokens['tokens'][-1]['y'] + tokens['tokens'][-1]['height'],\n",
    "        },\n",
    "        \"tokens\": [{'pageIndex': int(page), 'tokenIndex': i+1} for i in range(*tokens['indices'])],\n",
    "        \"text\": ' '.join([t['text'] for t in tokens['tokens']]),\n",
    "    }\n",
    "\n",
    "# useful for the section's also\n",
    "def add_annotation_text(page, annotation):\n",
    "    if annotation['tokens'] != None:\n",
    "        page_tokens = page['tokens']\n",
    "        start = annotation['tokens'][0]['tokenIndex']\n",
    "        end = annotation['tokens'][-1]['tokenIndex']\n",
    "\n",
    "        return ' '.join([t['text'] for t in page_tokens[start:end+1]])\n",
    "    return None"
   ]
  },
  {
   "cell_type": "code",
   "execution_count": 495,
   "id": "5b70eeb8",
   "metadata": {},
   "outputs": [],
   "source": [
    "#### getting pretokenized text : https://spacy.io/usage/linguistic-features#custom-tokenizer (close to the right page)\n",
    "tokens = [[t['text'] for t in p['tokens']] for p in pawls_structure]\n",
    "docs = []\n",
    "for p in tokens:\n",
    "    doc = Doc(sci_nlp.vocab, words=p)\n",
    "    doc = ner(doc)\n",
    "    docs.append(doc)"
   ]
  },
  {
   "cell_type": "code",
   "execution_count": 496,
   "id": "ae64486d",
   "metadata": {},
   "outputs": [],
   "source": [
    "matching_tokens = find_matching_token(pawls_structure, docs)\n",
    "\n",
    "annotations = [make_keyword_annotation(t, page='1') for t in matching_tokens[1]]"
   ]
  },
  {
   "cell_type": "code",
   "execution_count": 497,
   "id": "4c3301da",
   "metadata": {},
   "outputs": [],
   "source": [
    "all_paper_annotations = [[make_keyword_annotation(t, page=k) for t in matching_tokens[k]] for k in matching_tokens.keys()]"
   ]
  },
  {
   "cell_type": "markdown",
   "id": "f3427ef9",
   "metadata": {},
   "source": [
    "### Converting from PAWLS structure to what is readable by the UI"
   ]
  },
  {
   "cell_type": "code",
   "execution_count": 501,
   "id": "b5896ec6",
   "metadata": {},
   "outputs": [],
   "source": [
    "# Get just the pawls keyword annotations first\n",
    "pawls_annotations_json_keywords = list(filter(lambda x: x['label']['text'] == 'Keywords', pawls_annotations_json['annotations']))\n",
    "pawls_annotations_json_sections = list(filter(lambda x: x['label']['text'] == 'Section', pawls_annotations_json['annotations']))\n",
    "pawls_annotations_json_headers = list(filter(lambda x: x['label']['text'] == 'Header', pawls_annotations_json['annotations']))\n"
   ]
  },
  {
   "cell_type": "code",
   "execution_count": 504,
   "id": "7fd307f5",
   "metadata": {},
   "outputs": [],
   "source": [
    "# UI is a ratio for the total page, while PAWLS is an absulote. so changing that is the first step\n",
    "# takes a PAWLS bounding box and converts to UI bounding box\n",
    "def get_spui_bounding_box(page, annotation):\n",
    "    return {\n",
    "        \"page\": annotation['page'],\n",
    "        \"left\":annotation['bounds']['left']/page['width'],\n",
    "        \"top\":annotation['bounds']['top']/page['height'],\n",
    "        \"width\": (annotation['bounds']['right'] - annotation['bounds']['left'])/page['width'],\n",
    "        \"height\": (annotation['bounds']['bottom'] - annotation['bounds']['top'])/page['height'],\n",
    "    }\n",
    "# takes a PAWLS annotation for keywords and makes it into a spui annotation\n",
    "def make_spui_annotation(index, page_info, pawls_annotation, df_definitions):\n",
    "    page = page_info['page']\n",
    "    tokens = page_info['tokens']\n",
    "    type_mapping = {\"Keywords\": \"experience\", \"Section\": \"answerSentence\", \"Header\": \"sectionHeader\"}\n",
    "    \n",
    "    if pawls_annotation['label']['text'] == \"Keywords\":\n",
    "        definition = sauce_defs.get_def(pawls_annotation['text'], df_definitions)\n",
    "        source = None\n",
    "        if definition is not None:\n",
    "            source = definition[1]\n",
    "            definition = definition[0]\n",
    "        \n",
    "        return {\n",
    "            \"id\":str(uuid.uuid4()),\n",
    "            \"type\": type_mapping[pawls_annotation['label']['text']],\n",
    "            \"attributes\": {\"bounding_boxes\": [get_spui_bounding_box(page, pawls_annotation)],\n",
    "                \"experience_id\": str(uuid.uuid4()),\n",
    "                \"urls\":[source],\n",
    "                \"snippets\": [definition],\n",
    "                \"source\": \"tex-pipeline\",\n",
    "                \"tags\": []\n",
    "              },\n",
    "                \"relationships\": {},\n",
    "        }\n",
    "    # note that the linking will have to be put in manually\n",
    "    elif pawls_annotation['label']['text'] == \"Section\":\n",
    "        # because we had to manually link the questions and answers\n",
    "        Q_IDS = ['227','228','229','230','231','232','233','234','235','236','237','238','239','240','241']\n",
    "        \n",
    "        try:\n",
    "            str_id = str(Q_IDS[index])\n",
    "        except:\n",
    "            str_id = str(index)\n",
    "        return {\n",
    "            \"id\":str_id,\n",
    "            \"type\": type_mapping[pawls_annotation['label']['text']],\n",
    "            \"attributes\": {\"bounding_boxes\": [get_spui_bounding_box(page, pawls_annotation)],\n",
    "                \"Name\": str(uuid.uuid4()),\n",
    "                \"text\":\"This is a highlighted FAQ section.\",\n",
    "                \"simplified_text\": \"This is a simplified response.\",\n",
    "                \"tex\": str(uuid.uuid4()),\n",
    "                \"tex_start\": 0,\n",
    "                \"tex_end\": 5,\n",
    "                \"source\": \"tex-pipeline\",\n",
    "                \"tags\": [],\n",
    "                \"text\": add_annotation_text(page_info, pawls_annotation)\n",
    "              },\n",
    "                \"relationships\": {\n",
    "                  \"question\": {\"type\":\"question\", \"id\":\"242\"},\n",
    "                  \"more_details\": {},\n",
    "                  \"less_details\": {},\n",
    "                  \"coaster\": []\n",
    "                }\n",
    "        }\n",
    "        # note that the linking will have to be put in manually\n",
    "    elif pawls_annotation['label']['text'] == \"Header\":\n",
    "        return {\n",
    "            \"id\":str(uuid.uuid4()),\n",
    "            \"type\": type_mapping[pawls_annotation['label']['text']],\n",
    "            \"attributes\": {\"bounding_boxes\": [get_spui_bounding_box(page, pawls_annotation)],\n",
    "                \"summary\": \"Summary\",\n",
    "                \"points\": [\"Points\"],\n",
    "                \"source\": \"tex-pipeline\",\n",
    "                \"tags\": []\n",
    "              },\n",
    "                \"relationships\": {},\n",
    "        }\n",
    "    \n"
   ]
  },
  {
   "cell_type": "code",
   "execution_count": 505,
   "id": "7bc40a3c",
   "metadata": {},
   "outputs": [],
   "source": [
    "pages_info = [p['page'] for p in pawls_structure]\n",
    "pages_info_mapping = {}\n",
    "for p in pages_info:\n",
    "    pages_info_mapping[p['index']] = {'width':p['width'], 'height':p['height']}\n",
    "    "
   ]
  },
  {
   "cell_type": "markdown",
   "id": "4eb5f12d",
   "metadata": {},
   "source": [
    "# Add definitions to annotations "
   ]
  },
  {
   "cell_type": "code",
   "execution_count": 570,
   "id": "9a3a58da",
   "metadata": {},
   "outputs": [],
   "source": [
    "df_definitions_all_sle = pd.read_csv('term_definitions.csv')\n",
    "\n",
    "all_paper_annotations_flat = [a for page in all_paper_annotations for a in page]"
   ]
  },
  {
   "cell_type": "code",
   "execution_count": 574,
   "id": "91a2eb64",
   "metadata": {},
   "outputs": [],
   "source": [
    "import re\n",
    "def contains_tags(d):\n",
    "    wiktionary_tags = ['surgery', 'anatomy', 'statistics',  'medicine', 'pathology', 'biochemistry', 'autoantigen', 'genetics', 'cytology', 'physics', 'chemistry', 'organic chemistry', 'immunology', 'pharmacology', 'anatomy', 'neuroanatomy', 'organism']\n",
    "    return any([t in d for t in wiktionary_tags])\n",
    "\n",
    "def clean_HTML(text):\n",
    "    return re.sub('<[^>]*>', '', text)\n",
    "# Rule: if there is a wiki def with the given tags, use that, otherwise use UMLS\n",
    "# tags were found as any tag occuring more than once and related to medicine in either wiki set of defs\n",
    "def get_UMLS_or_WikT(row):\n",
    "    # also clean of any html tags\n",
    "    if (row['wikitionary'] != None) and (contains_tags(row['wikitionary'])):\n",
    "        return (clean_HTML(row['wikitionary']), 'Wiktionary')\n",
    "    elif row['UMLS'] != None:\n",
    "        return (clean_HTML(row['UMLS']), 'UMLS')\n",
    "        "
   ]
  },
  {
   "cell_type": "code",
   "execution_count": 575,
   "id": "d1761e2b",
   "metadata": {},
   "outputs": [],
   "source": [
    "# convert NaN to none\n",
    "df_definitions_all_sle = df_definitions_all_sle.where(pd.notnull(df_definitions_all_sle), None)\n",
    "\n",
    "# add in the tuple for source\n",
    "df_definitions_all_sle['definition'] = [get_UMLS_or_WikT(r) for _, r in df_definitions_all_sle.iterrows()]"
   ]
  },
  {
   "cell_type": "code",
   "execution_count": 576,
   "id": "0a2921ff",
   "metadata": {},
   "outputs": [],
   "source": [
    "df_definitions_all_sle_filtered = df_definitions_all_sle.dropna(subset=['definition'])\n"
   ]
  },
  {
   "cell_type": "code",
   "execution_count": 577,
   "id": "4a2a4c84",
   "metadata": {},
   "outputs": [
    {
     "name": "stderr",
     "output_type": "stream",
     "text": [
      "/home/tala/miniconda3/envs/bioasq-biobert2019py3.6/lib/python3.6/site-packages/ipykernel_launcher.py:1: SettingWithCopyWarning: \n",
      "A value is trying to be set on a copy of a slice from a DataFrame.\n",
      "Try using .loc[row_indexer,col_indexer] = value instead\n",
      "\n",
      "See the caveats in the documentation: http://pandas.pydata.org/pandas-docs/stable/indexing.html#indexing-view-versus-copy\n",
      "  \"\"\"Entry point for launching an IPython kernel.\n"
     ]
    }
   ],
   "source": [
    "df_definitions_all_sle_filtered['definition_text'] = [d[0] for d in df_definitions_all_sle_filtered['definition']]"
   ]
  },
  {
   "cell_type": "code",
   "execution_count": 582,
   "id": "4d8eda35",
   "metadata": {},
   "outputs": [],
   "source": [
    "# make UI annotations for term definitions and annotations for the sections (will be filled in with generated text later)\n",
    "\n",
    "annotations = []\n",
    "\n",
    "# sections have to go first\n",
    "annotations = all_paper_annotations_flat\n",
    "\n",
    "SPUI_annotations = []\n",
    "for i, annotation in enumerate(annotations):\n",
    "    page = pawls_structure[annotation['page']]\n",
    "    SPUI_annotations.append(make_spui_annotation(i, page, annotation, df_definitions_all_sle_filtered))\n",
    "\n",
    "    "
   ]
  },
  {
   "cell_type": "code",
   "execution_count": 583,
   "id": "1e5bf87d",
   "metadata": {},
   "outputs": [],
   "source": [
    "# filter for non-empty definitions\n",
    "def is_non_empty_def(annotation):\n",
    "    if annotation['type'] == 'experience':\n",
    "        return annotation['attributes']['snippets'][0] != None\n",
    "    return True\n",
    "    \n",
    "non_empty_spui = list(filter(is_non_empty_def, SPUI_annotations))\n"
   ]
  },
  {
   "cell_type": "markdown",
   "id": "2a084c40",
   "metadata": {},
   "source": [
    "## Add in questions\n",
    "Manually created"
   ]
  },
  {
   "cell_type": "code",
   "execution_count": 584,
   "id": "a90e58c6",
   "metadata": {},
   "outputs": [],
   "source": [
    "with open('question_annotations.json', 'r') as f:\n",
    "    questions = json.load(f)"
   ]
  },
  {
   "cell_type": "markdown",
   "id": "09e6cd04",
   "metadata": {},
   "source": [
    "## add in answers\n",
    "Answers were generated but put into correct format manually"
   ]
  },
  {
   "cell_type": "code",
   "execution_count": 585,
   "id": "8dacd68d",
   "metadata": {},
   "outputs": [],
   "source": [
    "with open('answer_annotations.json', 'r') as f:\n",
    "    answers = json.load(f)    \n"
   ]
  },
  {
   "cell_type": "markdown",
   "id": "73b91fd7",
   "metadata": {},
   "source": [
    "## add in section headers\n",
    "\n",
    "same as answers"
   ]
  },
  {
   "cell_type": "code",
   "execution_count": 586,
   "id": "ed0ccf4f",
   "metadata": {},
   "outputs": [],
   "source": [
    "\n",
    "with open('header_annotations.json', 'r') as f:\n",
    "    headers = json.load(f) \n",
    "    "
   ]
  },
  {
   "cell_type": "code",
   "execution_count": 587,
   "id": "41b9e03c",
   "metadata": {},
   "outputs": [],
   "source": [
    "# dump all annotations as single file for UI\n",
    "with open('auto_PAWLS_SPUI_annotations.json', 'w') as f:\n",
    "    non_empty_spui.extend(questions)\n",
    "    non_empty_spui.extend(answers)\n",
    "    non_empty_spui.extend(headers)\n",
    "    json.dump(non_empty_spui, f)"
   ]
  }
 ],
 "metadata": {
  "kernelspec": {
   "display_name": "bioasq-biobert2019py3.6",
   "language": "python",
   "name": "bioasq-biobert2019py3.6"
  },
  "language_info": {
   "codemirror_mode": {
    "name": "ipython",
    "version": 3
   },
   "file_extension": ".py",
   "mimetype": "text/x-python",
   "name": "python",
   "nbconvert_exporter": "python",
   "pygments_lexer": "ipython3",
   "version": "3.6.13"
  }
 },
 "nbformat": 4,
 "nbformat_minor": 5
}
