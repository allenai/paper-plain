{
 "cells": [
  {
   "cell_type": "markdown",
   "id": "ff8249d0",
   "metadata": {},
   "source": [
    "# Definitions\n",
    "\n",
    "Notebook for creating definitions of medical terms in a document\n",
    "\n",
    "The code here assumes that the document was already parsed with PAWLs"
   ]
  },
  {
   "cell_type": "code",
   "execution_count": 13,
   "id": "589a12fc",
   "metadata": {},
   "outputs": [],
   "source": [
    "import os\n",
    "import sys\n",
    "import pandas as pd\n",
    "import json\n",
    "import uuid\n",
    "import transformers\n",
    "import datasets\n",
    "import pandas as pd\n",
    "from elasticsearch import Elasticsearch\n",
    "from spacy.tokens import Doc\n",
    "from wordfreq import word_frequency\n",
    "from wiktionaryparser import WiktionaryParser\n",
    "import tqdm\n",
    "import inflect\n",
    "import spacy \n",
    "import re \n",
    "\n",
    "# renaming the cache to point to nobackup\n",
    "DIR = ''\n",
    "DATA_DIR = '{}/data'.format(DIR)\n",
    "\n",
    "sys.path.append('{}/lib'.format(DIR))\n",
    "import sauce_defs\n",
    "\n",
    "\n",
    "inflect_engine = inflect.engine()"
   ]
  },
  {
   "cell_type": "code",
   "execution_count": 3,
   "id": "12afcd59",
   "metadata": {},
   "outputs": [],
   "source": [
    "with open('pdf_structure.json', 'r') as f:\n",
    "    pawls_structure = json.load(f)"
   ]
  },
  {
   "cell_type": "markdown",
   "id": "16cc351e",
   "metadata": {},
   "source": [
    "# Get the Tokens for a Doc"
   ]
  },
  {
   "cell_type": "code",
   "execution_count": 4,
   "id": "cf11ab29",
   "metadata": {},
   "outputs": [],
   "source": [
    "def find_matching_token(pages, docs):\n",
    "    matching = {}\n",
    "    for d, p in zip(docs, pages):\n",
    "        matching_tokens = []\n",
    "        ents_index = [(s.start, s.end) for s in d.ents]\n",
    "        for indices in ents_index:\n",
    "            matching_tokens.append({'tokens': p['tokens'][indices[0]:indices[1]], 'indices':indices})\n",
    "        matching[p['page']['index']] = matching_tokens\n",
    "    return matching"
   ]
  },
  {
   "cell_type": "code",
   "execution_count": 7,
   "id": "db31193e",
   "metadata": {},
   "outputs": [
    {
     "name": "stderr",
     "output_type": "stream",
     "text": [
      "/home/tala/miniconda3/envs/bioasq-biobert2019py3.6/lib/python3.6/site-packages/sklearn/base.py:315: UserWarning: Trying to unpickle estimator TfidfTransformer from version 0.20.3 when using version 0.24.2. This might lead to breaking code or invalid results. Use at your own risk.\n",
      "  UserWarning)\n",
      "/home/tala/miniconda3/envs/bioasq-biobert2019py3.6/lib/python3.6/site-packages/sklearn/base.py:315: UserWarning: Trying to unpickle estimator TfidfVectorizer from version 0.20.3 when using version 0.24.2. This might lead to breaking code or invalid results. Use at your own risk.\n",
      "  UserWarning)\n"
     ]
    },
    {
     "data": {
      "text/plain": [
       "<scispacy.linking.EntityLinker at 0x7fd8c99fb518>"
      ]
     },
     "execution_count": 7,
     "metadata": {},
     "output_type": "execute_result"
    }
   ],
   "source": [
    "from scispacy.linking import EntityLinker\n",
    "from scispacy.abbreviation import AbbreviationDetector\n",
    "from spacy.tokens import Doc\n",
    "\n",
    "\n",
    "sci_nlp = spacy.load(\"en_core_sci_sm\")\n",
    "\n",
    "sci_nlp.add_pipe(\"abbreviation_detector\")\n",
    "sci_nlp.add_pipe(\"scispacy_linker\", config={\"resolve_abbreviations\": True, \n",
    "                                            \"linker_name\": \"umls\", \n",
    "                                            \"filter_for_definitions\": True,\n",
    "                                            \"max_entities_per_mention\": 5,\n",
    "                                            \"threshold\": 0.75,\n",
    "                                            \"no_definition_threshold\": 1.0},)\n"
   ]
  },
  {
   "cell_type": "markdown",
   "id": "e3e46a19",
   "metadata": {},
   "source": [
    "# Link using scispacy NER"
   ]
  },
  {
   "cell_type": "code",
   "execution_count": 8,
   "id": "988682b4",
   "metadata": {},
   "outputs": [],
   "source": [
    "ner = sci_nlp.get_pipe(\"ner\")\n",
    "abbr_det = sci_nlp.get_pipe(\"abbreviation_detector\")\n",
    "linker = sci_nlp.get_pipe(\"scispacy_linker\")"
   ]
  },
  {
   "cell_type": "code",
   "execution_count": 9,
   "id": "4a02f220",
   "metadata": {},
   "outputs": [],
   "source": [
    "def get_docs(pawls_structure):\n",
    "    tokens = [[t['text'] for t in p['tokens']] for p in pawls_structure]\n",
    "    docs = []\n",
    "    for p in tokens:\n",
    "        doc = Doc(sci_nlp.vocab, words=p)\n",
    "        doc = ner(doc)\n",
    "        doc = abbr_det(doc)\n",
    "        doc = linker(doc)\n",
    "        docs.append(doc)\n",
    "    return tokens, docs\n",
    "\n",
    "# filter ents for those with umls defs\n",
    "def filter_for_kb_links(e):\n",
    "    return len(e._.kb_ents) > 0"
   ]
  },
  {
   "cell_type": "code",
   "execution_count": 10,
   "id": "0e664fcd",
   "metadata": {},
   "outputs": [
    {
     "name": "stderr",
     "output_type": "stream",
     "text": [
      "/home/tala/miniconda3/envs/bioasq-biobert2019py3.6/lib/python3.6/site-packages/scispacy/abbreviation.py:216: UserWarning: [W036] The component 'matcher' does not have any patterns defined.\n",
      "  global_matches = self.global_matcher(doc)\n",
      "/home/tala/miniconda3/envs/bioasq-biobert2019py3.6/lib/python3.6/site-packages/scispacy/candidate_generation.py:284: VisibleDeprecationWarning: Creating an ndarray from ragged nested sequences (which is a list-or-tuple of lists-or-tuples-or ndarrays with different lengths or shapes) is deprecated. If you meant to do this, you must specify 'dtype=object' when creating the ndarray\n",
      "  extended_neighbors[empty_vectors_boolean_flags] = numpy.array(neighbors)[:-1]\n",
      "/home/tala/miniconda3/envs/bioasq-biobert2019py3.6/lib/python3.6/site-packages/scispacy/candidate_generation.py:285: VisibleDeprecationWarning: Creating an ndarray from ragged nested sequences (which is a list-or-tuple of lists-or-tuples-or ndarrays with different lengths or shapes) is deprecated. If you meant to do this, you must specify 'dtype=object' when creating the ndarray\n",
      "  extended_distances[empty_vectors_boolean_flags] = numpy.array(distances)[:-1]\n"
     ]
    }
   ],
   "source": [
    "# Expanding a definition from one keyword to all matching keywords in a paper\n",
    "sle_tokens, sle_docs = get_docs(pawls_structure)\n",
    "\n",
    "# get all entities with link to KB\n",
    "sle_ents = [d.ents for d in sle_docs]\n",
    "sle_ents = [e for ent in sle_ents for e in ent]\n",
    "sle_ents_with_defs = list(filter(filter_for_kb_links, sle_ents))"
   ]
  },
  {
   "cell_type": "markdown",
   "id": "1b69e3ce",
   "metadata": {},
   "source": [
    "# Get UMLS defs\n",
    "\n",
    "Need to do this while still have ent. spans"
   ]
  },
  {
   "cell_type": "code",
   "execution_count": 11,
   "id": "973d8516",
   "metadata": {},
   "outputs": [],
   "source": [
    "\n",
    "def sing_lower_match(s1, s2):\n",
    "    return sauce_defs.make_singular(s1.lower()) == sauce_defs.make_singular(s2.lower())\n",
    "\n",
    "def get_KB_def(e):\n",
    "    kb_ents = []\n",
    "    for k in e._.kb_ents:\n",
    "        kb_ent = linker.kb.cui_to_entity[k[0]]\n",
    "        if sing_lower_match(kb_ent[1], e.text):\n",
    "            return {'term': e.text, 'UMLS': kb_ent.definition}\n",
    "    return {'term': e.text, 'UMLS': None}\n",
    "\n",
    "def get_KB_ents(e):\n",
    "    print(e)\n",
    "    for kb_ent in e._.kb_ents:\n",
    "        print(linker.kb.cui_to_entity[kb_ent[0]], kb_ent[1])\n",
    "    print('---------------------')\n",
    "    return e._.kb_ents "
   ]
  },
  {
   "cell_type": "code",
   "execution_count": 14,
   "id": "95a2e2a3",
   "metadata": {},
   "outputs": [],
   "source": [
    "sle_UMLS_defs = pd.DataFrame([get_KB_def(e) for e in sle_ents_with_defs])\n",
    "\n",
    "# clean in the same way as the sauce lib\n",
    "sle_UMLS_defs['cleaned_term'] = [re.sub('\\.|;|,|\\(|\\)', '', s.lower()) for s in sle_UMLS_defs['term']]\n",
    "sle_UMLS_defs['cleaned_term'] = [sauce_defs.make_singular(s) for s in sle_UMLS_defs['cleaned_term']]"
   ]
  },
  {
   "cell_type": "markdown",
   "id": "8d88431a",
   "metadata": {},
   "source": [
    "# Get Wikitionariy defs\n",
    "\n",
    "We have the UMLS defs above, now let's get the wiktionary ones"
   ]
  },
  {
   "cell_type": "code",
   "execution_count": 15,
   "id": "62a507d9",
   "metadata": {},
   "outputs": [],
   "source": [
    "def get_paper_defs(matching_tokens):\n",
    "    df_defs = []\n",
    "\n",
    "    for k in matching_tokens.keys():\n",
    "        df_defs.append(sauce_defs.make_definitions_df(matching_tokens[k]))\n",
    "        \n",
    "    return pd.concat(df_defs)\n",
    "\n",
    "# rather than getting all the defs, just get the terms\n",
    "def get_paper_terms(matching_tokens):\n",
    "    df_terms = []\n",
    "\n",
    "    for k in matching_tokens.keys():\n",
    "        df_terms.append(sauce_defs.make_term_df(matching_tokens[k]))\n",
    "        \n",
    "    return pd.concat(df_terms)\n"
   ]
  },
  {
   "cell_type": "code",
   "execution_count": 16,
   "id": "aa5e8083",
   "metadata": {},
   "outputs": [],
   "source": [
    "sle_matching_tokens = find_matching_token(pawls_structure, sle_docs)\n",
    "df_terms_lupus = get_paper_terms(sle_matching_tokens)"
   ]
  },
  {
   "cell_type": "markdown",
   "id": "47ad91ad",
   "metadata": {},
   "source": [
    "## Filtering"
   ]
  },
  {
   "cell_type": "code",
   "execution_count": 17,
   "id": "ed3cc7bd",
   "metadata": {},
   "outputs": [],
   "source": [
    "def get_quantile(df, quantile, col='freq', side='less'):\n",
    "    \n",
    "    if side == 'less':\n",
    "        return df[df[col] < df[col].quantile(quantile)]\n",
    "    elif side == 'greater':\n",
    "        return df[df[col] > df[col].quantile(quantile)]\n",
    "    \n",
    "    print('Unknown value for side:', side)\n",
    "    return None\n",
    "\n",
    "def filter_terms(df):\n",
    "    # first takee out any non-words\n",
    "    df_cleaned = df[df['freq'] > 0].copy()\n",
    "\n",
    "    # remove any words less than 2 chars (3 chars == SLE so can't have that)\n",
    "    df_cleaned = df_cleaned[df_cleaned['str_len'] > 2]\n",
    "\n",
    "    # and any words above 29 (28 = length of lupus)\n",
    "    df_cleaned = df_cleaned[df_cleaned['str_len'] < 29]\n",
    "\n",
    "    # clean of very common words (top 80% of data)\n",
    "    df_cleaned = get_quantile(df_cleaned, 0.8, side='less')\n",
    "\n",
    "    # making new df because we want to keep the original terms to match back to the doc\n",
    "    return df_cleaned, df_cleaned.drop_duplicates(subset=['cleaned_term'])"
   ]
  },
  {
   "cell_type": "code",
   "execution_count": 18,
   "id": "90164f89",
   "metadata": {},
   "outputs": [],
   "source": [
    "# make columns for filtering\n",
    "df_terms_lupus['freq'] = [word_frequency(t, 'en') for t in df_terms_lupus['cleaned_term']]\n",
    "df_terms_lupus['str_len'] = df_terms_lupus['cleaned_term'].str.len()"
   ]
  },
  {
   "cell_type": "code",
   "execution_count": 19,
   "id": "3314d7f9",
   "metadata": {},
   "outputs": [],
   "source": [
    "# filter \n",
    "df_terms_full_lupus, df_terms_defs_lupus = filter_terms(df_terms_lupus)"
   ]
  },
  {
   "cell_type": "code",
   "execution_count": 22,
   "id": "9572b8c9",
   "metadata": {},
   "outputs": [
    {
     "name": "stderr",
     "output_type": "stream",
     "text": [
      "\n",
      "  0%|          | 0/1858 [00:00<?, ?it/s]\u001b[A\n",
      "  0%|          | 1/1858 [00:01<33:10,  1.07s/it]\u001b[A\n",
      "  0%|          | 2/1858 [00:01<19:16,  1.60it/s]\u001b[A\n",
      "  0%|          | 3/1858 [00:02<20:08,  1.53it/s]\u001b[A\n",
      "  0%|          | 4/1858 [00:02<16:10,  1.91it/s]\u001b[A\n",
      "  0%|          | 5/1858 [00:02<13:23,  2.31it/s]\u001b[A\n",
      "  0%|          | 6/1858 [00:03<13:35,  2.27it/s]\u001b[A\n",
      "  0%|          | 7/1858 [00:03<11:54,  2.59it/s]\u001b[A\n",
      "  0%|          | 8/1858 [00:03<12:34,  2.45it/s]\u001b[A\n",
      "  0%|          | 9/1858 [00:04<12:21,  2.49it/s]\u001b[A"
     ]
    },
    {
     "ename": "KeyboardInterrupt",
     "evalue": "",
     "output_type": "error",
     "traceback": [
      "\u001b[0;31m---------------------------------------------------------------------------\u001b[0m",
      "\u001b[0;31mKeyboardInterrupt\u001b[0m                         Traceback (most recent call last)",
      "\u001b[0;32m<ipython-input-22-c1fc435c8a64>\u001b[0m in \u001b[0;36m<module>\u001b[0;34m\u001b[0m\n\u001b[1;32m      9\u001b[0m         \u001b[0;32mreturn\u001b[0m \u001b[0;32mNone\u001b[0m\u001b[0;34m\u001b[0m\u001b[0;34m\u001b[0m\u001b[0m\n\u001b[1;32m     10\u001b[0m \u001b[0;34m\u001b[0m\u001b[0m\n\u001b[0;32m---> 11\u001b[0;31m \u001b[0mdf_terms_defs_lupus\u001b[0m\u001b[0;34m[\u001b[0m\u001b[0;34m'wikitionary'\u001b[0m\u001b[0;34m]\u001b[0m \u001b[0;34m=\u001b[0m \u001b[0;34m[\u001b[0m\u001b[0mget_wikitionary_def\u001b[0m\u001b[0;34m(\u001b[0m\u001b[0mt\u001b[0m\u001b[0;34m)\u001b[0m \u001b[0;32mfor\u001b[0m \u001b[0mt\u001b[0m \u001b[0;32min\u001b[0m \u001b[0mtqdm\u001b[0m\u001b[0;34m.\u001b[0m\u001b[0mtqdm\u001b[0m\u001b[0;34m(\u001b[0m\u001b[0mdf_terms_defs_lupus\u001b[0m\u001b[0;34m[\u001b[0m\u001b[0;34m'cleaned_term'\u001b[0m\u001b[0;34m]\u001b[0m\u001b[0;34m)\u001b[0m\u001b[0;34m]\u001b[0m\u001b[0;34m\u001b[0m\u001b[0;34m\u001b[0m\u001b[0m\n\u001b[0m",
      "\u001b[0;32m<ipython-input-22-c1fc435c8a64>\u001b[0m in \u001b[0;36m<listcomp>\u001b[0;34m(.0)\u001b[0m\n\u001b[1;32m      9\u001b[0m         \u001b[0;32mreturn\u001b[0m \u001b[0;32mNone\u001b[0m\u001b[0;34m\u001b[0m\u001b[0;34m\u001b[0m\u001b[0m\n\u001b[1;32m     10\u001b[0m \u001b[0;34m\u001b[0m\u001b[0m\n\u001b[0;32m---> 11\u001b[0;31m \u001b[0mdf_terms_defs_lupus\u001b[0m\u001b[0;34m[\u001b[0m\u001b[0;34m'wikitionary'\u001b[0m\u001b[0;34m]\u001b[0m \u001b[0;34m=\u001b[0m \u001b[0;34m[\u001b[0m\u001b[0mget_wikitionary_def\u001b[0m\u001b[0;34m(\u001b[0m\u001b[0mt\u001b[0m\u001b[0;34m)\u001b[0m \u001b[0;32mfor\u001b[0m \u001b[0mt\u001b[0m \u001b[0;32min\u001b[0m \u001b[0mtqdm\u001b[0m\u001b[0;34m.\u001b[0m\u001b[0mtqdm\u001b[0m\u001b[0;34m(\u001b[0m\u001b[0mdf_terms_defs_lupus\u001b[0m\u001b[0;34m[\u001b[0m\u001b[0;34m'cleaned_term'\u001b[0m\u001b[0;34m]\u001b[0m\u001b[0;34m)\u001b[0m\u001b[0;34m]\u001b[0m\u001b[0;34m\u001b[0m\u001b[0;34m\u001b[0m\u001b[0m\n\u001b[0m",
      "\u001b[0;32m<ipython-input-22-c1fc435c8a64>\u001b[0m in \u001b[0;36mget_wikitionary_def\u001b[0;34m(term)\u001b[0m\n\u001b[1;32m      3\u001b[0m \u001b[0mwiktionary_tags\u001b[0m \u001b[0;34m=\u001b[0m \u001b[0;34m[\u001b[0m\u001b[0;34m'medicine'\u001b[0m\u001b[0;34m,\u001b[0m \u001b[0;34m'organism'\u001b[0m\u001b[0;34m,\u001b[0m \u001b[0;34m'pathology'\u001b[0m\u001b[0;34m,\u001b[0m \u001b[0;34m'biochemistry'\u001b[0m\u001b[0;34m,\u001b[0m \u001b[0;34m'autoantigen'\u001b[0m\u001b[0;34m,\u001b[0m \u001b[0;34m'genetics'\u001b[0m\u001b[0;34m,\u001b[0m \u001b[0;34m'cytology'\u001b[0m\u001b[0;34m,\u001b[0m \u001b[0;34m'physics'\u001b[0m\u001b[0;34m,\u001b[0m \u001b[0;34m'chemistry'\u001b[0m\u001b[0;34m,\u001b[0m \u001b[0;34m'organic chemistry'\u001b[0m\u001b[0;34m,\u001b[0m \u001b[0;34m'immunology'\u001b[0m\u001b[0;34m,\u001b[0m \u001b[0;34m'pharmacology'\u001b[0m\u001b[0;34m,\u001b[0m \u001b[0;34m'anatomy'\u001b[0m\u001b[0;34m,\u001b[0m \u001b[0;34m'neuroanatomy'\u001b[0m\u001b[0;34m]\u001b[0m\u001b[0;34m\u001b[0m\u001b[0;34m\u001b[0m\u001b[0m\n\u001b[1;32m      4\u001b[0m \u001b[0;32mdef\u001b[0m \u001b[0mget_wikitionary_def\u001b[0m\u001b[0;34m(\u001b[0m\u001b[0mterm\u001b[0m\u001b[0;34m)\u001b[0m\u001b[0;34m:\u001b[0m\u001b[0;34m\u001b[0m\u001b[0;34m\u001b[0m\u001b[0m\n\u001b[0;32m----> 5\u001b[0;31m     \u001b[0mword\u001b[0m \u001b[0;34m=\u001b[0m \u001b[0mparser\u001b[0m\u001b[0;34m.\u001b[0m\u001b[0mfetch\u001b[0m\u001b[0;34m(\u001b[0m\u001b[0mterm\u001b[0m\u001b[0;34m)\u001b[0m\u001b[0;34m\u001b[0m\u001b[0;34m\u001b[0m\u001b[0m\n\u001b[0m\u001b[1;32m      6\u001b[0m     \u001b[0;32mtry\u001b[0m\u001b[0;34m:\u001b[0m\u001b[0;34m\u001b[0m\u001b[0;34m\u001b[0m\u001b[0m\n\u001b[1;32m      7\u001b[0m         \u001b[0;32mreturn\u001b[0m \u001b[0mword\u001b[0m\u001b[0;34m[\u001b[0m\u001b[0;36m0\u001b[0m\u001b[0;34m]\u001b[0m\u001b[0;34m[\u001b[0m\u001b[0;34m'definitions'\u001b[0m\u001b[0;34m]\u001b[0m\u001b[0;34m[\u001b[0m\u001b[0;36m0\u001b[0m\u001b[0;34m]\u001b[0m\u001b[0;34m[\u001b[0m\u001b[0;34m'text'\u001b[0m\u001b[0;34m]\u001b[0m\u001b[0;34m[\u001b[0m\u001b[0;36m1\u001b[0m\u001b[0;34m]\u001b[0m\u001b[0;34m\u001b[0m\u001b[0;34m\u001b[0m\u001b[0m\n",
      "\u001b[0;32m~/miniconda3/envs/bioasq-biobert2019py3.6/lib/python3.6/site-packages/wiktionaryparser.py\u001b[0m in \u001b[0;36mfetch\u001b[0;34m(self, word, language)\u001b[0m\n\u001b[1;32m    254\u001b[0m     \u001b[0;32mdef\u001b[0m \u001b[0mfetch\u001b[0m\u001b[0;34m(\u001b[0m\u001b[0mself\u001b[0m\u001b[0;34m,\u001b[0m \u001b[0mword\u001b[0m\u001b[0;34m,\u001b[0m \u001b[0mlanguage\u001b[0m\u001b[0;34m=\u001b[0m\u001b[0;32mNone\u001b[0m\u001b[0;34m)\u001b[0m\u001b[0;34m:\u001b[0m\u001b[0;34m\u001b[0m\u001b[0;34m\u001b[0m\u001b[0m\n\u001b[1;32m    255\u001b[0m         \u001b[0mlanguage\u001b[0m \u001b[0;34m=\u001b[0m \u001b[0mself\u001b[0m\u001b[0;34m.\u001b[0m\u001b[0mlanguage\u001b[0m \u001b[0;32mif\u001b[0m \u001b[0;32mnot\u001b[0m \u001b[0mlanguage\u001b[0m \u001b[0;32melse\u001b[0m \u001b[0mlanguage\u001b[0m\u001b[0;34m\u001b[0m\u001b[0;34m\u001b[0m\u001b[0m\n\u001b[0;32m--> 256\u001b[0;31m         \u001b[0mresponse\u001b[0m \u001b[0;34m=\u001b[0m \u001b[0mself\u001b[0m\u001b[0;34m.\u001b[0m\u001b[0msession\u001b[0m\u001b[0;34m.\u001b[0m\u001b[0mget\u001b[0m\u001b[0;34m(\u001b[0m\u001b[0mself\u001b[0m\u001b[0;34m.\u001b[0m\u001b[0murl\u001b[0m\u001b[0;34m.\u001b[0m\u001b[0mformat\u001b[0m\u001b[0;34m(\u001b[0m\u001b[0mword\u001b[0m\u001b[0;34m)\u001b[0m\u001b[0;34m)\u001b[0m\u001b[0;34m\u001b[0m\u001b[0;34m\u001b[0m\u001b[0m\n\u001b[0m\u001b[1;32m    257\u001b[0m         \u001b[0mself\u001b[0m\u001b[0;34m.\u001b[0m\u001b[0msoup\u001b[0m \u001b[0;34m=\u001b[0m \u001b[0mBeautifulSoup\u001b[0m\u001b[0;34m(\u001b[0m\u001b[0mresponse\u001b[0m\u001b[0;34m.\u001b[0m\u001b[0mtext\u001b[0m\u001b[0;34m.\u001b[0m\u001b[0mreplace\u001b[0m\u001b[0;34m(\u001b[0m\u001b[0;34m'>\\n<'\u001b[0m\u001b[0;34m,\u001b[0m \u001b[0;34m'><'\u001b[0m\u001b[0;34m)\u001b[0m\u001b[0;34m,\u001b[0m \u001b[0;34m'html.parser'\u001b[0m\u001b[0;34m)\u001b[0m\u001b[0;34m\u001b[0m\u001b[0;34m\u001b[0m\u001b[0m\n\u001b[1;32m    258\u001b[0m         \u001b[0mself\u001b[0m\u001b[0;34m.\u001b[0m\u001b[0mcurrent_word\u001b[0m \u001b[0;34m=\u001b[0m \u001b[0mword\u001b[0m\u001b[0;34m\u001b[0m\u001b[0;34m\u001b[0m\u001b[0m\n",
      "\u001b[0;32m~/miniconda3/envs/bioasq-biobert2019py3.6/lib/python3.6/site-packages/requests/sessions.py\u001b[0m in \u001b[0;36mget\u001b[0;34m(self, url, **kwargs)\u001b[0m\n\u001b[1;32m    553\u001b[0m \u001b[0;34m\u001b[0m\u001b[0m\n\u001b[1;32m    554\u001b[0m         \u001b[0mkwargs\u001b[0m\u001b[0;34m.\u001b[0m\u001b[0msetdefault\u001b[0m\u001b[0;34m(\u001b[0m\u001b[0;34m'allow_redirects'\u001b[0m\u001b[0;34m,\u001b[0m \u001b[0;32mTrue\u001b[0m\u001b[0;34m)\u001b[0m\u001b[0;34m\u001b[0m\u001b[0;34m\u001b[0m\u001b[0m\n\u001b[0;32m--> 555\u001b[0;31m         \u001b[0;32mreturn\u001b[0m \u001b[0mself\u001b[0m\u001b[0;34m.\u001b[0m\u001b[0mrequest\u001b[0m\u001b[0;34m(\u001b[0m\u001b[0;34m'GET'\u001b[0m\u001b[0;34m,\u001b[0m \u001b[0murl\u001b[0m\u001b[0;34m,\u001b[0m \u001b[0;34m**\u001b[0m\u001b[0mkwargs\u001b[0m\u001b[0;34m)\u001b[0m\u001b[0;34m\u001b[0m\u001b[0;34m\u001b[0m\u001b[0m\n\u001b[0m\u001b[1;32m    556\u001b[0m \u001b[0;34m\u001b[0m\u001b[0m\n\u001b[1;32m    557\u001b[0m     \u001b[0;32mdef\u001b[0m \u001b[0moptions\u001b[0m\u001b[0;34m(\u001b[0m\u001b[0mself\u001b[0m\u001b[0;34m,\u001b[0m \u001b[0murl\u001b[0m\u001b[0;34m,\u001b[0m \u001b[0;34m**\u001b[0m\u001b[0mkwargs\u001b[0m\u001b[0;34m)\u001b[0m\u001b[0;34m:\u001b[0m\u001b[0;34m\u001b[0m\u001b[0;34m\u001b[0m\u001b[0m\n",
      "\u001b[0;32m~/miniconda3/envs/bioasq-biobert2019py3.6/lib/python3.6/site-packages/requests/sessions.py\u001b[0m in \u001b[0;36mrequest\u001b[0;34m(self, method, url, params, data, headers, cookies, files, auth, timeout, allow_redirects, proxies, hooks, stream, verify, cert, json)\u001b[0m\n\u001b[1;32m    540\u001b[0m         }\n\u001b[1;32m    541\u001b[0m         \u001b[0msend_kwargs\u001b[0m\u001b[0;34m.\u001b[0m\u001b[0mupdate\u001b[0m\u001b[0;34m(\u001b[0m\u001b[0msettings\u001b[0m\u001b[0;34m)\u001b[0m\u001b[0;34m\u001b[0m\u001b[0;34m\u001b[0m\u001b[0m\n\u001b[0;32m--> 542\u001b[0;31m         \u001b[0mresp\u001b[0m \u001b[0;34m=\u001b[0m \u001b[0mself\u001b[0m\u001b[0;34m.\u001b[0m\u001b[0msend\u001b[0m\u001b[0;34m(\u001b[0m\u001b[0mprep\u001b[0m\u001b[0;34m,\u001b[0m \u001b[0;34m**\u001b[0m\u001b[0msend_kwargs\u001b[0m\u001b[0;34m)\u001b[0m\u001b[0;34m\u001b[0m\u001b[0;34m\u001b[0m\u001b[0m\n\u001b[0m\u001b[1;32m    543\u001b[0m \u001b[0;34m\u001b[0m\u001b[0m\n\u001b[1;32m    544\u001b[0m         \u001b[0;32mreturn\u001b[0m \u001b[0mresp\u001b[0m\u001b[0;34m\u001b[0m\u001b[0;34m\u001b[0m\u001b[0m\n",
      "\u001b[0;32m~/miniconda3/envs/bioasq-biobert2019py3.6/lib/python3.6/site-packages/requests/sessions.py\u001b[0m in \u001b[0;36msend\u001b[0;34m(self, request, **kwargs)\u001b[0m\n\u001b[1;32m    695\u001b[0m \u001b[0;34m\u001b[0m\u001b[0m\n\u001b[1;32m    696\u001b[0m         \u001b[0;32mif\u001b[0m \u001b[0;32mnot\u001b[0m \u001b[0mstream\u001b[0m\u001b[0;34m:\u001b[0m\u001b[0;34m\u001b[0m\u001b[0;34m\u001b[0m\u001b[0m\n\u001b[0;32m--> 697\u001b[0;31m             \u001b[0mr\u001b[0m\u001b[0;34m.\u001b[0m\u001b[0mcontent\u001b[0m\u001b[0;34m\u001b[0m\u001b[0;34m\u001b[0m\u001b[0m\n\u001b[0m\u001b[1;32m    698\u001b[0m \u001b[0;34m\u001b[0m\u001b[0m\n\u001b[1;32m    699\u001b[0m         \u001b[0;32mreturn\u001b[0m \u001b[0mr\u001b[0m\u001b[0;34m\u001b[0m\u001b[0;34m\u001b[0m\u001b[0m\n",
      "\u001b[0;32m~/miniconda3/envs/bioasq-biobert2019py3.6/lib/python3.6/site-packages/requests/models.py\u001b[0m in \u001b[0;36mcontent\u001b[0;34m(self)\u001b[0m\n\u001b[1;32m    834\u001b[0m                 \u001b[0mself\u001b[0m\u001b[0;34m.\u001b[0m\u001b[0m_content\u001b[0m \u001b[0;34m=\u001b[0m \u001b[0;32mNone\u001b[0m\u001b[0;34m\u001b[0m\u001b[0;34m\u001b[0m\u001b[0m\n\u001b[1;32m    835\u001b[0m             \u001b[0;32melse\u001b[0m\u001b[0;34m:\u001b[0m\u001b[0;34m\u001b[0m\u001b[0;34m\u001b[0m\u001b[0m\n\u001b[0;32m--> 836\u001b[0;31m                 \u001b[0mself\u001b[0m\u001b[0;34m.\u001b[0m\u001b[0m_content\u001b[0m \u001b[0;34m=\u001b[0m \u001b[0;34mb''\u001b[0m\u001b[0;34m.\u001b[0m\u001b[0mjoin\u001b[0m\u001b[0;34m(\u001b[0m\u001b[0mself\u001b[0m\u001b[0;34m.\u001b[0m\u001b[0miter_content\u001b[0m\u001b[0;34m(\u001b[0m\u001b[0mCONTENT_CHUNK_SIZE\u001b[0m\u001b[0;34m)\u001b[0m\u001b[0;34m)\u001b[0m \u001b[0;32mor\u001b[0m \u001b[0;34mb''\u001b[0m\u001b[0;34m\u001b[0m\u001b[0;34m\u001b[0m\u001b[0m\n\u001b[0m\u001b[1;32m    837\u001b[0m \u001b[0;34m\u001b[0m\u001b[0m\n\u001b[1;32m    838\u001b[0m         \u001b[0mself\u001b[0m\u001b[0;34m.\u001b[0m\u001b[0m_content_consumed\u001b[0m \u001b[0;34m=\u001b[0m \u001b[0;32mTrue\u001b[0m\u001b[0;34m\u001b[0m\u001b[0;34m\u001b[0m\u001b[0m\n",
      "\u001b[0;32m~/miniconda3/envs/bioasq-biobert2019py3.6/lib/python3.6/site-packages/requests/models.py\u001b[0m in \u001b[0;36mgenerate\u001b[0;34m()\u001b[0m\n\u001b[1;32m    756\u001b[0m             \u001b[0;32mif\u001b[0m \u001b[0mhasattr\u001b[0m\u001b[0;34m(\u001b[0m\u001b[0mself\u001b[0m\u001b[0;34m.\u001b[0m\u001b[0mraw\u001b[0m\u001b[0;34m,\u001b[0m \u001b[0;34m'stream'\u001b[0m\u001b[0;34m)\u001b[0m\u001b[0;34m:\u001b[0m\u001b[0;34m\u001b[0m\u001b[0;34m\u001b[0m\u001b[0m\n\u001b[1;32m    757\u001b[0m                 \u001b[0;32mtry\u001b[0m\u001b[0;34m:\u001b[0m\u001b[0;34m\u001b[0m\u001b[0;34m\u001b[0m\u001b[0m\n\u001b[0;32m--> 758\u001b[0;31m                     \u001b[0;32mfor\u001b[0m \u001b[0mchunk\u001b[0m \u001b[0;32min\u001b[0m \u001b[0mself\u001b[0m\u001b[0;34m.\u001b[0m\u001b[0mraw\u001b[0m\u001b[0;34m.\u001b[0m\u001b[0mstream\u001b[0m\u001b[0;34m(\u001b[0m\u001b[0mchunk_size\u001b[0m\u001b[0;34m,\u001b[0m \u001b[0mdecode_content\u001b[0m\u001b[0;34m=\u001b[0m\u001b[0;32mTrue\u001b[0m\u001b[0;34m)\u001b[0m\u001b[0;34m:\u001b[0m\u001b[0;34m\u001b[0m\u001b[0;34m\u001b[0m\u001b[0m\n\u001b[0m\u001b[1;32m    759\u001b[0m                         \u001b[0;32myield\u001b[0m \u001b[0mchunk\u001b[0m\u001b[0;34m\u001b[0m\u001b[0;34m\u001b[0m\u001b[0m\n\u001b[1;32m    760\u001b[0m                 \u001b[0;32mexcept\u001b[0m \u001b[0mProtocolError\u001b[0m \u001b[0;32mas\u001b[0m \u001b[0me\u001b[0m\u001b[0;34m:\u001b[0m\u001b[0;34m\u001b[0m\u001b[0;34m\u001b[0m\u001b[0m\n",
      "\u001b[0;32m~/miniconda3/envs/bioasq-biobert2019py3.6/lib/python3.6/site-packages/urllib3/response.py\u001b[0m in \u001b[0;36mstream\u001b[0;34m(self, amt, decode_content)\u001b[0m\n\u001b[1;32m    570\u001b[0m         \"\"\"\n\u001b[1;32m    571\u001b[0m         \u001b[0;32mif\u001b[0m \u001b[0mself\u001b[0m\u001b[0;34m.\u001b[0m\u001b[0mchunked\u001b[0m \u001b[0;32mand\u001b[0m \u001b[0mself\u001b[0m\u001b[0;34m.\u001b[0m\u001b[0msupports_chunked_reads\u001b[0m\u001b[0;34m(\u001b[0m\u001b[0;34m)\u001b[0m\u001b[0;34m:\u001b[0m\u001b[0;34m\u001b[0m\u001b[0;34m\u001b[0m\u001b[0m\n\u001b[0;32m--> 572\u001b[0;31m             \u001b[0;32mfor\u001b[0m \u001b[0mline\u001b[0m \u001b[0;32min\u001b[0m \u001b[0mself\u001b[0m\u001b[0;34m.\u001b[0m\u001b[0mread_chunked\u001b[0m\u001b[0;34m(\u001b[0m\u001b[0mamt\u001b[0m\u001b[0;34m,\u001b[0m \u001b[0mdecode_content\u001b[0m\u001b[0;34m=\u001b[0m\u001b[0mdecode_content\u001b[0m\u001b[0;34m)\u001b[0m\u001b[0;34m:\u001b[0m\u001b[0;34m\u001b[0m\u001b[0;34m\u001b[0m\u001b[0m\n\u001b[0m\u001b[1;32m    573\u001b[0m                 \u001b[0;32myield\u001b[0m \u001b[0mline\u001b[0m\u001b[0;34m\u001b[0m\u001b[0;34m\u001b[0m\u001b[0m\n\u001b[1;32m    574\u001b[0m         \u001b[0;32melse\u001b[0m\u001b[0;34m:\u001b[0m\u001b[0;34m\u001b[0m\u001b[0;34m\u001b[0m\u001b[0m\n",
      "\u001b[0;32m~/miniconda3/envs/bioasq-biobert2019py3.6/lib/python3.6/site-packages/urllib3/response.py\u001b[0m in \u001b[0;36mread_chunked\u001b[0;34m(self, amt, decode_content)\u001b[0m\n\u001b[1;32m    762\u001b[0m \u001b[0;34m\u001b[0m\u001b[0m\n\u001b[1;32m    763\u001b[0m             \u001b[0;32mwhile\u001b[0m \u001b[0;32mTrue\u001b[0m\u001b[0;34m:\u001b[0m\u001b[0;34m\u001b[0m\u001b[0;34m\u001b[0m\u001b[0m\n\u001b[0;32m--> 764\u001b[0;31m                 \u001b[0mself\u001b[0m\u001b[0;34m.\u001b[0m\u001b[0m_update_chunk_length\u001b[0m\u001b[0;34m(\u001b[0m\u001b[0;34m)\u001b[0m\u001b[0;34m\u001b[0m\u001b[0;34m\u001b[0m\u001b[0m\n\u001b[0m\u001b[1;32m    765\u001b[0m                 \u001b[0;32mif\u001b[0m \u001b[0mself\u001b[0m\u001b[0;34m.\u001b[0m\u001b[0mchunk_left\u001b[0m \u001b[0;34m==\u001b[0m \u001b[0;36m0\u001b[0m\u001b[0;34m:\u001b[0m\u001b[0;34m\u001b[0m\u001b[0;34m\u001b[0m\u001b[0m\n\u001b[1;32m    766\u001b[0m                     \u001b[0;32mbreak\u001b[0m\u001b[0;34m\u001b[0m\u001b[0;34m\u001b[0m\u001b[0m\n",
      "\u001b[0;32m~/miniconda3/envs/bioasq-biobert2019py3.6/lib/python3.6/site-packages/urllib3/response.py\u001b[0m in \u001b[0;36m_update_chunk_length\u001b[0;34m(self)\u001b[0m\n\u001b[1;32m    692\u001b[0m         \u001b[0;32mif\u001b[0m \u001b[0mself\u001b[0m\u001b[0;34m.\u001b[0m\u001b[0mchunk_left\u001b[0m \u001b[0;32mis\u001b[0m \u001b[0;32mnot\u001b[0m \u001b[0;32mNone\u001b[0m\u001b[0;34m:\u001b[0m\u001b[0;34m\u001b[0m\u001b[0;34m\u001b[0m\u001b[0m\n\u001b[1;32m    693\u001b[0m             \u001b[0;32mreturn\u001b[0m\u001b[0;34m\u001b[0m\u001b[0;34m\u001b[0m\u001b[0m\n\u001b[0;32m--> 694\u001b[0;31m         \u001b[0mline\u001b[0m \u001b[0;34m=\u001b[0m \u001b[0mself\u001b[0m\u001b[0;34m.\u001b[0m\u001b[0m_fp\u001b[0m\u001b[0;34m.\u001b[0m\u001b[0mfp\u001b[0m\u001b[0;34m.\u001b[0m\u001b[0mreadline\u001b[0m\u001b[0;34m(\u001b[0m\u001b[0;34m)\u001b[0m\u001b[0;34m\u001b[0m\u001b[0;34m\u001b[0m\u001b[0m\n\u001b[0m\u001b[1;32m    695\u001b[0m         \u001b[0mline\u001b[0m \u001b[0;34m=\u001b[0m \u001b[0mline\u001b[0m\u001b[0;34m.\u001b[0m\u001b[0msplit\u001b[0m\u001b[0;34m(\u001b[0m\u001b[0;34mb\";\"\u001b[0m\u001b[0;34m,\u001b[0m \u001b[0;36m1\u001b[0m\u001b[0;34m)\u001b[0m\u001b[0;34m[\u001b[0m\u001b[0;36m0\u001b[0m\u001b[0;34m]\u001b[0m\u001b[0;34m\u001b[0m\u001b[0;34m\u001b[0m\u001b[0m\n\u001b[1;32m    696\u001b[0m         \u001b[0;32mtry\u001b[0m\u001b[0;34m:\u001b[0m\u001b[0;34m\u001b[0m\u001b[0;34m\u001b[0m\u001b[0m\n",
      "\u001b[0;32m~/miniconda3/envs/bioasq-biobert2019py3.6/lib/python3.6/socket.py\u001b[0m in \u001b[0;36mreadinto\u001b[0;34m(self, b)\u001b[0m\n\u001b[1;32m    584\u001b[0m         \u001b[0;32mwhile\u001b[0m \u001b[0;32mTrue\u001b[0m\u001b[0;34m:\u001b[0m\u001b[0;34m\u001b[0m\u001b[0;34m\u001b[0m\u001b[0m\n\u001b[1;32m    585\u001b[0m             \u001b[0;32mtry\u001b[0m\u001b[0;34m:\u001b[0m\u001b[0;34m\u001b[0m\u001b[0;34m\u001b[0m\u001b[0m\n\u001b[0;32m--> 586\u001b[0;31m                 \u001b[0;32mreturn\u001b[0m \u001b[0mself\u001b[0m\u001b[0;34m.\u001b[0m\u001b[0m_sock\u001b[0m\u001b[0;34m.\u001b[0m\u001b[0mrecv_into\u001b[0m\u001b[0;34m(\u001b[0m\u001b[0mb\u001b[0m\u001b[0;34m)\u001b[0m\u001b[0;34m\u001b[0m\u001b[0;34m\u001b[0m\u001b[0m\n\u001b[0m\u001b[1;32m    587\u001b[0m             \u001b[0;32mexcept\u001b[0m \u001b[0mtimeout\u001b[0m\u001b[0;34m:\u001b[0m\u001b[0;34m\u001b[0m\u001b[0;34m\u001b[0m\u001b[0m\n\u001b[1;32m    588\u001b[0m                 \u001b[0mself\u001b[0m\u001b[0;34m.\u001b[0m\u001b[0m_timeout_occurred\u001b[0m \u001b[0;34m=\u001b[0m \u001b[0;32mTrue\u001b[0m\u001b[0;34m\u001b[0m\u001b[0;34m\u001b[0m\u001b[0m\n",
      "\u001b[0;32m~/miniconda3/envs/bioasq-biobert2019py3.6/lib/python3.6/ssl.py\u001b[0m in \u001b[0;36mrecv_into\u001b[0;34m(self, buffer, nbytes, flags)\u001b[0m\n\u001b[1;32m   1010\u001b[0m                   \u001b[0;34m\"non-zero flags not allowed in calls to recv_into() on %s\"\u001b[0m \u001b[0;34m%\u001b[0m\u001b[0;34m\u001b[0m\u001b[0;34m\u001b[0m\u001b[0m\n\u001b[1;32m   1011\u001b[0m                   self.__class__)\n\u001b[0;32m-> 1012\u001b[0;31m             \u001b[0;32mreturn\u001b[0m \u001b[0mself\u001b[0m\u001b[0;34m.\u001b[0m\u001b[0mread\u001b[0m\u001b[0;34m(\u001b[0m\u001b[0mnbytes\u001b[0m\u001b[0;34m,\u001b[0m \u001b[0mbuffer\u001b[0m\u001b[0;34m)\u001b[0m\u001b[0;34m\u001b[0m\u001b[0;34m\u001b[0m\u001b[0m\n\u001b[0m\u001b[1;32m   1013\u001b[0m         \u001b[0;32melse\u001b[0m\u001b[0;34m:\u001b[0m\u001b[0;34m\u001b[0m\u001b[0;34m\u001b[0m\u001b[0m\n\u001b[1;32m   1014\u001b[0m             \u001b[0;32mreturn\u001b[0m \u001b[0msocket\u001b[0m\u001b[0;34m.\u001b[0m\u001b[0mrecv_into\u001b[0m\u001b[0;34m(\u001b[0m\u001b[0mself\u001b[0m\u001b[0;34m,\u001b[0m \u001b[0mbuffer\u001b[0m\u001b[0;34m,\u001b[0m \u001b[0mnbytes\u001b[0m\u001b[0;34m,\u001b[0m \u001b[0mflags\u001b[0m\u001b[0;34m)\u001b[0m\u001b[0;34m\u001b[0m\u001b[0;34m\u001b[0m\u001b[0m\n",
      "\u001b[0;32m~/miniconda3/envs/bioasq-biobert2019py3.6/lib/python3.6/ssl.py\u001b[0m in \u001b[0;36mread\u001b[0;34m(self, len, buffer)\u001b[0m\n\u001b[1;32m    872\u001b[0m             \u001b[0;32mraise\u001b[0m \u001b[0mValueError\u001b[0m\u001b[0;34m(\u001b[0m\u001b[0;34m\"Read on closed or unwrapped SSL socket.\"\u001b[0m\u001b[0;34m)\u001b[0m\u001b[0;34m\u001b[0m\u001b[0;34m\u001b[0m\u001b[0m\n\u001b[1;32m    873\u001b[0m         \u001b[0;32mtry\u001b[0m\u001b[0;34m:\u001b[0m\u001b[0;34m\u001b[0m\u001b[0;34m\u001b[0m\u001b[0m\n\u001b[0;32m--> 874\u001b[0;31m             \u001b[0;32mreturn\u001b[0m \u001b[0mself\u001b[0m\u001b[0;34m.\u001b[0m\u001b[0m_sslobj\u001b[0m\u001b[0;34m.\u001b[0m\u001b[0mread\u001b[0m\u001b[0;34m(\u001b[0m\u001b[0mlen\u001b[0m\u001b[0;34m,\u001b[0m \u001b[0mbuffer\u001b[0m\u001b[0;34m)\u001b[0m\u001b[0;34m\u001b[0m\u001b[0;34m\u001b[0m\u001b[0m\n\u001b[0m\u001b[1;32m    875\u001b[0m         \u001b[0;32mexcept\u001b[0m \u001b[0mSSLError\u001b[0m \u001b[0;32mas\u001b[0m \u001b[0mx\u001b[0m\u001b[0;34m:\u001b[0m\u001b[0;34m\u001b[0m\u001b[0;34m\u001b[0m\u001b[0m\n\u001b[1;32m    876\u001b[0m             \u001b[0;32mif\u001b[0m \u001b[0mx\u001b[0m\u001b[0;34m.\u001b[0m\u001b[0margs\u001b[0m\u001b[0;34m[\u001b[0m\u001b[0;36m0\u001b[0m\u001b[0;34m]\u001b[0m \u001b[0;34m==\u001b[0m \u001b[0mSSL_ERROR_EOF\u001b[0m \u001b[0;32mand\u001b[0m \u001b[0mself\u001b[0m\u001b[0;34m.\u001b[0m\u001b[0msuppress_ragged_eofs\u001b[0m\u001b[0;34m:\u001b[0m\u001b[0;34m\u001b[0m\u001b[0;34m\u001b[0m\u001b[0m\n",
      "\u001b[0;32m~/miniconda3/envs/bioasq-biobert2019py3.6/lib/python3.6/ssl.py\u001b[0m in \u001b[0;36mread\u001b[0;34m(self, len, buffer)\u001b[0m\n\u001b[1;32m    629\u001b[0m         \"\"\"\n\u001b[1;32m    630\u001b[0m         \u001b[0;32mif\u001b[0m \u001b[0mbuffer\u001b[0m \u001b[0;32mis\u001b[0m \u001b[0;32mnot\u001b[0m \u001b[0;32mNone\u001b[0m\u001b[0;34m:\u001b[0m\u001b[0;34m\u001b[0m\u001b[0;34m\u001b[0m\u001b[0m\n\u001b[0;32m--> 631\u001b[0;31m             \u001b[0mv\u001b[0m \u001b[0;34m=\u001b[0m \u001b[0mself\u001b[0m\u001b[0;34m.\u001b[0m\u001b[0m_sslobj\u001b[0m\u001b[0;34m.\u001b[0m\u001b[0mread\u001b[0m\u001b[0;34m(\u001b[0m\u001b[0mlen\u001b[0m\u001b[0;34m,\u001b[0m \u001b[0mbuffer\u001b[0m\u001b[0;34m)\u001b[0m\u001b[0;34m\u001b[0m\u001b[0;34m\u001b[0m\u001b[0m\n\u001b[0m\u001b[1;32m    632\u001b[0m         \u001b[0;32melse\u001b[0m\u001b[0;34m:\u001b[0m\u001b[0;34m\u001b[0m\u001b[0;34m\u001b[0m\u001b[0m\n\u001b[1;32m    633\u001b[0m             \u001b[0mv\u001b[0m \u001b[0;34m=\u001b[0m \u001b[0mself\u001b[0m\u001b[0;34m.\u001b[0m\u001b[0m_sslobj\u001b[0m\u001b[0;34m.\u001b[0m\u001b[0mread\u001b[0m\u001b[0;34m(\u001b[0m\u001b[0mlen\u001b[0m\u001b[0;34m)\u001b[0m\u001b[0;34m\u001b[0m\u001b[0;34m\u001b[0m\u001b[0m\n",
      "\u001b[0;31mKeyboardInterrupt\u001b[0m: "
     ]
    }
   ],
   "source": [
    "parser = WiktionaryParser()\n",
    "\n",
    "wiktionary_tags = ['medicine', 'organism', 'pathology', 'biochemistry', 'autoantigen', 'genetics', 'cytology', 'physics', 'chemistry', 'organic chemistry', 'immunology', 'pharmacology', 'anatomy', 'neuroanatomy']\n",
    "def get_wikitionary_def(term):\n",
    "    word = parser.fetch(term)\n",
    "    try:\n",
    "        return word[0]['definitions'][0]['text'][1]\n",
    "    except:\n",
    "        return None\n",
    "\n",
    "df_terms_defs_lupus['wikitionary'] = [get_wikitionary_def(t) for t in tqdm.tqdm(df_terms_defs_lupus['cleaned_term'])]"
   ]
  },
  {
   "cell_type": "code",
   "execution_count": null,
   "id": "858d7003",
   "metadata": {},
   "outputs": [],
   "source": [
    "# merge with original term defs so we have all the terms (rather than just a singular cleaned one)\n",
    "df_terms_lupus_cleaned_merged = pd.merge(df_terms_full_lupus, df_terms_defs_lupus[['cleaned_term', 'wikitionary']], how='left', on='cleaned_term')\n",
    "\n",
    "\n",
    "# merge with UMLS \n",
    "def lookup_UMLS_def(t, UMLS_lookup):\n",
    "    try:\n",
    "        return UMLS_lookup.loc[t]['UMLS']\n",
    "    except:\n",
    "        return None\n",
    "    \n",
    "    \n",
    "# df_terms_lupus_cleaned_merged_umls = pd.merge(df_terms_lupus_cleaned_merged, UMLS_defs[['cleaned_term', 'UMLS']], how='left', on='cleaned_term')\n",
    "UMLS_lookup_sle = sle_UMLS_defs[['cleaned_term', 'UMLS']].drop_duplicates(subset=['cleaned_term']).set_index('cleaned_term')\n",
    "\n",
    "df_terms_lupus_cleaned_merged['UMLS'] = [lookup_UMLS_def(t, UMLS_lookup_sle) for t in df_terms_lupus_cleaned_merged['cleaned_term']]\n"
   ]
  },
  {
   "cell_type": "code",
   "execution_count": null,
   "id": "a557935a",
   "metadata": {},
   "outputs": [],
   "source": [
    "# save \n",
    "df_terms_lupus_cleaned_merged.to_csv('term_definitions.csv')\n"
   ]
  }
 ],
 "metadata": {
  "kernelspec": {
   "display_name": "bioasq-biobert2019py3.6",
   "language": "python",
   "name": "bioasq-biobert2019py3.6"
  },
  "language_info": {
   "codemirror_mode": {
    "name": "ipython",
    "version": 3
   },
   "file_extension": ".py",
   "mimetype": "text/x-python",
   "name": "python",
   "nbconvert_exporter": "python",
   "pygments_lexer": "ipython3",
   "version": "3.6.13"
  }
 },
 "nbformat": 4,
 "nbformat_minor": 5
}
